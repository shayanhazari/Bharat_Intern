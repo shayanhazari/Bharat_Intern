{
 "cells": [
  {
   "cell_type": "code",
   "execution_count": 1,
   "metadata": {
    "id": "mkqsirGINjX0"
   },
   "outputs": [
    {
     "ename": "ModuleNotFoundError",
     "evalue": "No module named 'tensorflow'",
     "output_type": "error",
     "traceback": [
      "\u001b[1;31m---------------------------------------------------------------------------\u001b[0m",
      "\u001b[1;31mModuleNotFoundError\u001b[0m                       Traceback (most recent call last)",
      "\u001b[1;32m~\\AppData\\Local\\Temp\\ipykernel_21452\\1381358987.py\u001b[0m in \u001b[0;36m<module>\u001b[1;34m\u001b[0m\n\u001b[1;32m----> 1\u001b[1;33m \u001b[1;32mimport\u001b[0m \u001b[0mtensorflow\u001b[0m \u001b[1;32mas\u001b[0m \u001b[0mtf\u001b[0m\u001b[1;33m\u001b[0m\u001b[1;33m\u001b[0m\u001b[0m\n\u001b[0m\u001b[0;32m      2\u001b[0m \u001b[1;32mimport\u001b[0m \u001b[0mseaborn\u001b[0m \u001b[1;32mas\u001b[0m \u001b[0msns\u001b[0m\u001b[1;33m\u001b[0m\u001b[1;33m\u001b[0m\u001b[0m\n\u001b[0;32m      3\u001b[0m \u001b[1;32mimport\u001b[0m \u001b[0mmatplotlib\u001b[0m\u001b[1;33m.\u001b[0m\u001b[0mpyplot\u001b[0m \u001b[1;32mas\u001b[0m \u001b[0mplt\u001b[0m\u001b[1;33m\u001b[0m\u001b[1;33m\u001b[0m\u001b[0m\n\u001b[0;32m      4\u001b[0m \u001b[0mget_ipython\u001b[0m\u001b[1;33m(\u001b[0m\u001b[1;33m)\u001b[0m\u001b[1;33m.\u001b[0m\u001b[0mrun_line_magic\u001b[0m\u001b[1;33m(\u001b[0m\u001b[1;34m'matplotlib'\u001b[0m\u001b[1;33m,\u001b[0m \u001b[1;34m'inline'\u001b[0m\u001b[1;33m)\u001b[0m\u001b[1;33m\u001b[0m\u001b[1;33m\u001b[0m\u001b[0m\n\u001b[0;32m      5\u001b[0m \u001b[1;32mimport\u001b[0m \u001b[0mpandas\u001b[0m \u001b[1;32mas\u001b[0m \u001b[0mpd\u001b[0m\u001b[1;33m\u001b[0m\u001b[1;33m\u001b[0m\u001b[0m\n",
      "\u001b[1;31mModuleNotFoundError\u001b[0m: No module named 'tensorflow'"
     ]
    }
   ],
   "source": [
    "import tensorflow as tf\n",
    "import seaborn as sns\n",
    "import matplotlib.pyplot as plt\n",
    "%matplotlib inline\n",
    "import pandas as pd\n",
    "import numpy as np\n",
    "from sklearn.preprocessing import StandardScaler\n",
    "from sklearn.model_selection import train_test_split\n",
    "from tensorflow.keras.utils import to_categorical\n",
    "from sklearn.metrics import classification_report, confusion_matrix, accuracy_score\n",
    "\n",
    "sns.set_style('darkgrid')"
   ]
  },
  {
   "cell_type": "code",
   "execution_count": null,
   "metadata": {
    "colab": {
     "base_uri": "https://localhost:8080/"
    },
    "id": "7nUTCz1LNjX1",
    "outputId": "162373bb-a95a-4a82-ba7a-d7db09bdda4d"
   },
   "outputs": [],
   "source": [
    "sns.get_dataset_names()"
   ]
  },
  {
   "cell_type": "code",
   "execution_count": null,
   "metadata": {
    "id": "beDIVwNqNjX2"
   },
   "outputs": [],
   "source": [
    "df = sns.load_dataset('titanic')"
   ]
  },
  {
   "cell_type": "code",
   "execution_count": null,
   "metadata": {
    "colab": {
     "base_uri": "https://localhost:8080/",
     "height": 206
    },
    "id": "w68bKnwcNjX3",
    "outputId": "069eefe1-202c-40ce-8bf5-41661dac566f"
   },
   "outputs": [],
   "source": [
    "df.head()"
   ]
  },
  {
   "cell_type": "code",
   "execution_count": null,
   "metadata": {
    "colab": {
     "base_uri": "https://localhost:8080/"
    },
    "id": "C-7JeP57NjX3",
    "outputId": "7b66c3fd-86b6-40aa-d836-fdf4023779b2"
   },
   "outputs": [],
   "source": [
    "df.isna().sum()"
   ]
  },
  {
   "cell_type": "code",
   "execution_count": null,
   "metadata": {
    "colab": {
     "base_uri": "https://localhost:8080/",
     "height": 445
    },
    "id": "2OhVe8V4NjX3",
    "outputId": "9689d022-bff3-442a-e4b4-50f3aca49217"
   },
   "outputs": [],
   "source": [
    "plt.figure(figsize=(10, 5));\n",
    "survived = df.survived.value_counts()\n",
    "survived.index = [survived]\n",
    "sns.barplot(survived.index);"
   ]
  },
  {
   "cell_type": "code",
   "execution_count": null,
   "metadata": {
    "colab": {
     "base_uri": "https://localhost:8080/",
     "height": 468
    },
    "id": "oX8-HEVtNjX4",
    "outputId": "28d183fc-7e2b-414f-ee90-a0fc223c04f3"
   },
   "outputs": [],
   "source": [
    "plt.figure(figsize=(10, 5))\n",
    "df.embarked.value_counts().plot.barh();\n",
    "plt.title('Embarked');"
   ]
  },
  {
   "cell_type": "code",
   "execution_count": null,
   "metadata": {
    "colab": {
     "base_uri": "https://localhost:8080/",
     "height": 468
    },
    "id": "yEqh7Eb-NjX4",
    "outputId": "97aa6802-cee5-49a7-eda9-e854791160e0"
   },
   "outputs": [],
   "source": [
    "plt.figure(figsize=(10, 5))\n",
    "df['class'].value_counts().plot.barh();\n",
    "plt.title('Class');"
   ]
  },
  {
   "cell_type": "code",
   "execution_count": null,
   "metadata": {
    "colab": {
     "base_uri": "https://localhost:8080/",
     "height": 465
    },
    "id": "MysgBtYXNjX4",
    "outputId": "dd380ba0-b527-4600-bdc9-e2748409a798"
   },
   "outputs": [],
   "source": [
    "plt.figure(figsize=(10, 5))\n",
    "sns.countplot(x='alive', data=df, hue='sex');"
   ]
  },
  {
   "cell_type": "code",
   "execution_count": null,
   "metadata": {
    "colab": {
     "base_uri": "https://localhost:8080/",
     "height": 487
    },
    "id": "G6sJln1mNjX5",
    "outputId": "8d27d3ff-5fad-4cda-f46c-4718da787adc"
   },
   "outputs": [],
   "source": [
    "plt.figure(figsize=(10, 5))\n",
    "sns.histplot(x='age', data=df, bins=20);\n",
    "plt.title('Age');"
   ]
  },
  {
   "cell_type": "code",
   "execution_count": null,
   "metadata": {
    "colab": {
     "base_uri": "https://localhost:8080/",
     "height": 465
    },
    "id": "1hXrkJyvNjX5",
    "outputId": "f40382f2-4336-45b6-cc46-e53363d7c0a8"
   },
   "outputs": [],
   "source": [
    "plt.figure(figsize=(10, 5))\n",
    "df.age.value_counts().nlargest(11).plot.barh();\n",
    "plt.xlabel('Count of Age')\n",
    "plt.ylabel('Age');"
   ]
  },
  {
   "cell_type": "code",
   "execution_count": null,
   "metadata": {
    "colab": {
     "base_uri": "https://localhost:8080/"
    },
    "id": "60pikwuUNjX6",
    "outputId": "1a1a74d7-1186-4598-cd5f-486e0a7e3d5a"
   },
   "outputs": [],
   "source": [
    "df.corr().iloc[0, 1]"
   ]
  },
  {
   "cell_type": "code",
   "execution_count": null,
   "metadata": {
    "colab": {
     "base_uri": "https://localhost:8080/",
     "height": 891
    },
    "id": "gXO36SFENjX6",
    "outputId": "06691970-e43b-4b37-9f09-c520354e822f"
   },
   "outputs": [],
   "source": [
    "plt.figure(figsize=(15, 10))\n",
    "sns.heatmap(df.corr(), annot=True);"
   ]
  },
  {
   "cell_type": "code",
   "execution_count": null,
   "metadata": {
    "colab": {
     "base_uri": "https://localhost:8080/",
     "height": 206
    },
    "id": "quKDeDM4NjX6",
    "outputId": "4962902a-1747-480e-9ebb-b89f6a103d59"
   },
   "outputs": [],
   "source": [
    "df.head()"
   ]
  },
  {
   "cell_type": "code",
   "execution_count": null,
   "metadata": {
    "colab": {
     "base_uri": "https://localhost:8080/",
     "height": 465
    },
    "id": "GAHK9k11NjX6",
    "outputId": "78713200-2217-403c-bbae-8c94302d0b3a"
   },
   "outputs": [],
   "source": [
    "plt.figure(figsize=(10, 5))\n",
    "sns.countplot(x='alone', data=df, hue='sex');"
   ]
  },
  {
   "cell_type": "code",
   "execution_count": null,
   "metadata": {
    "id": "l76DUUkYNjX7"
   },
   "outputs": [],
   "source": [
    "df['embarked'].fillna(value=df['embarked'].mode()[0], inplace=True)\n",
    "df['embark_town'].fillna(value=df['embark_town'].mode()[0], inplace=True)"
   ]
  },
  {
   "cell_type": "code",
   "execution_count": null,
   "metadata": {
    "id": "DwwlZrN-NjX7"
   },
   "outputs": [],
   "source": [
    "def get_label_class(val):\n",
    "    if val == 'First':\n",
    "        val = 0\n",
    "    elif val == 'Second':\n",
    "        val = 1\n",
    "    elif val == 'Third':\n",
    "        val = 2\n",
    "    return val\n",
    "\n",
    "def get_label_embarked(val):\n",
    "    if val == 'S':\n",
    "        val = 0\n",
    "    elif val == 'C':\n",
    "        val = 1\n",
    "    elif val == 'Q':\n",
    "        val = 2\n",
    "    return val\n",
    "\n",
    "def get_label_embarktown(val):\n",
    "    if val == 'Southampton':\n",
    "        val = 0\n",
    "    elif val == 'Cherbourg':\n",
    "        val = 1\n",
    "    elif val == 'Queenstown':\n",
    "        val = 2\n",
    "    return val"
   ]
  },
  {
   "cell_type": "code",
   "execution_count": null,
   "metadata": {
    "id": "smeJLgp0NjX7"
   },
   "outputs": [],
   "source": [
    "df['sex'] = np.where(df['sex'] == 'male', 1, 0)\n",
    "\n",
    "df['class'] = df['class'].map(get_label_class)\n",
    "\n",
    "df.drop(['who'], axis=1, inplace=True)\n",
    "\n",
    "df['embarked'] = df['embarked'].map(get_label_embarked)\n",
    "\n",
    "df['adult_male'] = np.where(df['adult_male'] == True, 1, 0)\n",
    "\n",
    "df['embark_town'] = df['embark_town'].map(get_label_embarktown)\n",
    "\n",
    "df.drop(['deck'], axis=1, inplace=True)\n",
    "\n",
    "df.drop(['alive'], axis=1, inplace=True)\n",
    "\n",
    "df['alone'] = np.where(df['alone'] == True, 1, 0)"
   ]
  },
  {
   "cell_type": "code",
   "execution_count": null,
   "metadata": {
    "colab": {
     "base_uri": "https://localhost:8080/",
     "height": 206
    },
    "id": "9MOj7KoXNjX7",
    "outputId": "2dd8de79-0baa-463d-f64f-6ec9ae27c389"
   },
   "outputs": [],
   "source": [
    "df.head()"
   ]
  },
  {
   "cell_type": "code",
   "execution_count": null,
   "metadata": {
    "colab": {
     "base_uri": "https://localhost:8080/",
     "height": 206
    },
    "id": "OPMTfSn3NjX8",
    "outputId": "87031a50-ec44-482a-92ca-2b0a96302a86"
   },
   "outputs": [],
   "source": [
    "df.tail()"
   ]
  },
  {
   "cell_type": "code",
   "execution_count": null,
   "metadata": {
    "colab": {
     "base_uri": "https://localhost:8080/",
     "height": 487
    },
    "id": "mNSXHM0wNjX8",
    "outputId": "91b2b3ab-2b38-4020-8b49-f1a92323b631"
   },
   "outputs": [],
   "source": [
    "plt.figure(figsize=(10, 5))\n",
    "sns.boxplot(x='age', data=df);\n",
    "plt.title('Age');"
   ]
  },
  {
   "cell_type": "code",
   "execution_count": null,
   "metadata": {
    "colab": {
     "base_uri": "https://localhost:8080/"
    },
    "id": "8jzxwGSpNjX8",
    "outputId": "b53bbe0a-f826-4800-dfac-af1ab0354cb7"
   },
   "outputs": [],
   "source": [
    "upper_value = df['age'].mean() + (3 * df.age.std())\n",
    "lower_value = df['age'].mean() - (3 * df.age.std())\n",
    "\n",
    "print(upper_value)\n",
    "print(lower_value)"
   ]
  },
  {
   "cell_type": "code",
   "execution_count": null,
   "metadata": {
    "id": "oGdRMwmiNjX8"
   },
   "outputs": [],
   "source": [
    "df.loc[df.age > upper_value, 'age'] = upper_value"
   ]
  },
  {
   "cell_type": "code",
   "execution_count": null,
   "metadata": {
    "colab": {
     "base_uri": "https://localhost:8080/",
     "height": 449
    },
    "id": "Zt8ZJj95NjX8",
    "outputId": "830b7659-0f38-40c1-9e17-0883a5f04f20"
   },
   "outputs": [],
   "source": [
    "sns.boxplot(x='age', data=df);"
   ]
  },
  {
   "cell_type": "code",
   "execution_count": null,
   "metadata": {
    "colab": {
     "base_uri": "https://localhost:8080/",
     "height": 944
    },
    "id": "Ky3UF0iGNjX9",
    "outputId": "d1efaf70-df4b-42a8-8365-12b48aa37d73"
   },
   "outputs": [],
   "source": [
    "plt.figure(figsize=(15, 10))\n",
    "sns.heatmap(df.corr(), annot=True);"
   ]
  },
  {
   "cell_type": "code",
   "execution_count": null,
   "metadata": {
    "id": "E9_ZAT_INjX9"
   },
   "outputs": [],
   "source": [
    "df.drop(['adult_male', 'embarked'], axis=1, inplace=True)"
   ]
  },
  {
   "cell_type": "code",
   "execution_count": null,
   "metadata": {
    "colab": {
     "base_uri": "https://localhost:8080/",
     "height": 206
    },
    "id": "YQm0o-fJNjX9",
    "outputId": "a119c4c7-3559-4bae-e972-53e084a01487"
   },
   "outputs": [],
   "source": [
    "df.head()"
   ]
  },
  {
   "cell_type": "code",
   "execution_count": null,
   "metadata": {
    "colab": {
     "base_uri": "https://localhost:8080/",
     "height": 656
    },
    "id": "G-jjbgPyNjX9",
    "outputId": "fef809d0-f3b5-43e6-daef-0a5dfa27a732"
   },
   "outputs": [],
   "source": [
    "plt.figure(figsize=(10, 5))\n",
    "sns.distplot(df.fare);"
   ]
  },
  {
   "cell_type": "code",
   "execution_count": null,
   "metadata": {
    "colab": {
     "base_uri": "https://localhost:8080/",
     "height": 504
    },
    "id": "CLZrXqKoNjX9",
    "outputId": "97536e7d-c31f-46dc-82b4-e08189cdfcc8"
   },
   "outputs": [],
   "source": [
    "plt.figure(figsize=(10, 5))\n",
    "sns.boxplot(x='fare', data=df);\n",
    "plt.title('Fare')"
   ]
  },
  {
   "cell_type": "code",
   "execution_count": null,
   "metadata": {
    "colab": {
     "base_uri": "https://localhost:8080/"
    },
    "id": "GJLXG8yRNjX-",
    "outputId": "caf27500-c1f2-4a8a-d71d-a36de690b9a9"
   },
   "outputs": [],
   "source": [
    "IQR = df.fare.quantile(0.75) - df.fare.quantile(0.25)\n",
    "\n",
    "lower_value = df.fare.quantile(0.25) - (IQR * 1.5)\n",
    "upper_value =  df.fare.quantile(0.75) + (IQR * 1.5)\n",
    "\n",
    "# lower_value_extreme = df.fare.quantile\n",
    "print(lower_value)\n",
    "print(upper_value)"
   ]
  },
  {
   "cell_type": "code",
   "execution_count": null,
   "metadata": {
    "id": "tMcDwYA7NjX-"
   },
   "outputs": [],
   "source": [
    "df.loc[df.fare > upper_value, 'fare'] = upper_value"
   ]
  },
  {
   "cell_type": "code",
   "execution_count": null,
   "metadata": {
    "colab": {
     "base_uri": "https://localhost:8080/",
     "height": 656
    },
    "id": "08e7Vz8GNjX-",
    "outputId": "a91c1292-3bd0-42e7-92b3-68a1095a1b4e"
   },
   "outputs": [],
   "source": [
    "plt.figure(figsize=(10, 5))\n",
    "sns.distplot(df.fare);"
   ]
  },
  {
   "cell_type": "code",
   "execution_count": null,
   "metadata": {
    "colab": {
     "base_uri": "https://localhost:8080/",
     "height": 465
    },
    "id": "QnmoOkssNjX-",
    "outputId": "7596f2b7-ac41-41c6-afac-0e74341411a8"
   },
   "outputs": [],
   "source": [
    "plt.figure(figsize=(10, 5))\n",
    "sns.boxplot(x='fare', data=df);"
   ]
  },
  {
   "cell_type": "code",
   "execution_count": null,
   "metadata": {
    "id": "lqOn4mI_NjX-"
   },
   "outputs": [],
   "source": [
    "df.age = df.age.fillna(value=df.age.mean())"
   ]
  },
  {
   "cell_type": "code",
   "execution_count": null,
   "metadata": {
    "colab": {
     "base_uri": "https://localhost:8080/"
    },
    "id": "JZc5v_lmNjX_",
    "outputId": "0ddc4dc9-e4be-419b-ac96-bd69c68b41d1"
   },
   "outputs": [],
   "source": [
    "df.isna().sum()"
   ]
  },
  {
   "cell_type": "code",
   "execution_count": null,
   "metadata": {
    "id": "-YvUALzaNjX_"
   },
   "outputs": [],
   "source": [
    "X = df.loc[:, 'pclass':]\n",
    "y = df.loc[:, 'survived']"
   ]
  },
  {
   "cell_type": "code",
   "execution_count": null,
   "metadata": {
    "colab": {
     "base_uri": "https://localhost:8080/",
     "height": 206
    },
    "id": "FGEcsNvuNjX_",
    "outputId": "bdafdd6d-227d-4eb3-fbd2-ed5fb8bea7a7"
   },
   "outputs": [],
   "source": [
    "X.head()"
   ]
  },
  {
   "cell_type": "code",
   "execution_count": null,
   "metadata": {
    "colab": {
     "base_uri": "https://localhost:8080/"
    },
    "id": "HKR1RLwLNjX_",
    "outputId": "83c0cd4a-73bf-4d24-d6f8-ae4bb6717cce"
   },
   "outputs": [],
   "source": [
    "y.head()"
   ]
  },
  {
   "cell_type": "code",
   "execution_count": null,
   "metadata": {
    "id": "XubZGVeVNjX_"
   },
   "outputs": [],
   "source": [
    "X = X.values\n",
    "y = y.values"
   ]
  },
  {
   "cell_type": "code",
   "execution_count": null,
   "metadata": {
    "id": "jnNC2c82NjYS"
   },
   "outputs": [],
   "source": [
    "sc = StandardScaler()\n",
    "X = sc.fit_transform(X)"
   ]
  },
  {
   "cell_type": "code",
   "execution_count": null,
   "metadata": {
    "id": "zyqjq5BCNjYS"
   },
   "outputs": [],
   "source": [
    "X_train, X_test, y_train, y_test = train_test_split(X, y, test_size=0.2, random_state=42)"
   ]
  },
  {
   "cell_type": "code",
   "execution_count": null,
   "metadata": {
    "colab": {
     "base_uri": "https://localhost:8080/"
    },
    "id": "SOF3CPS4NjYS",
    "outputId": "2383e3cb-cd57-4f3e-a38d-9a05cb616637"
   },
   "outputs": [],
   "source": [
    "X_train.shape"
   ]
  },
  {
   "cell_type": "code",
   "execution_count": null,
   "metadata": {
    "colab": {
     "base_uri": "https://localhost:8080/"
    },
    "id": "eTKkiVwZNjYS",
    "outputId": "a02197f8-26bf-4dce-e195-fe2f1b9c4cd2"
   },
   "outputs": [],
   "source": [
    "X_test.shape"
   ]
  },
  {
   "cell_type": "code",
   "execution_count": null,
   "metadata": {
    "id": "jyR0nFQsNjYS"
   },
   "outputs": [],
   "source": [
    "model = tf.keras.models.Sequential()\n",
    "model.add(tf.keras.layers.Dense(units=128, activation='relu', input_dim=9))\n",
    "model.add(tf.keras.layers.Dropout(0.25))\n",
    "model.add(tf.keras.layers.Dense(units=64, activation='relu'))\n",
    "model.add(tf.keras.layers.Dropout(0.25))\n",
    "model.add(tf.keras.layers.Dense(units=32, activation='relu'))\n",
    "model.add(tf.keras.layers.Dropout(0.25))\n",
    "model.add(tf.keras.layers.Dense(units=1, activation='sigmoid'))"
   ]
  },
  {
   "cell_type": "code",
   "execution_count": null,
   "metadata": {
    "colab": {
     "base_uri": "https://localhost:8080/"
    },
    "id": "MQhyl7qtNjYT",
    "outputId": "cc43a7a2-2437-408c-cb87-a90e6778be8e"
   },
   "outputs": [],
   "source": [
    "model.summary()"
   ]
  },
  {
   "cell_type": "code",
   "execution_count": null,
   "metadata": {
    "id": "zIL_qKEBNjYT"
   },
   "outputs": [],
   "source": [
    "model.compile(loss='binary_crossentropy', optimizer='adam', metrics=['accuracy'])"
   ]
  },
  {
   "cell_type": "code",
   "execution_count": null,
   "metadata": {
    "id": "UldAxBZONjYT"
   },
   "outputs": [],
   "source": [
    "callback = tf.keras.callbacks.EarlyStopping(\n",
    "    patience=5,\n",
    "    monitor='val_loss',\n",
    ")"
   ]
  },
  {
   "cell_type": "code",
   "execution_count": null,
   "metadata": {
    "colab": {
     "base_uri": "https://localhost:8080/"
    },
    "id": "fj_MAz51NjYT",
    "outputId": "117c556c-9ab1-481e-f8cd-0c16b9cb06f8"
   },
   "outputs": [],
   "source": [
    "history = model.fit(X_train, y_train, batch_size=32, callbacks=[callback], validation_split=0.2, epochs=100, verbose=1)"
   ]
  },
  {
   "cell_type": "code",
   "execution_count": null,
   "metadata": {
    "colab": {
     "base_uri": "https://localhost:8080/",
     "height": 718
    },
    "id": "A4GktViJNjYT",
    "outputId": "80c2fc2d-bab6-4d3c-b8ce-201ecbee692c"
   },
   "outputs": [],
   "source": [
    "plt.figure(figsize=(10, 8));\n",
    "plt.plot(history.history['loss'], label='train_loss');\n",
    "plt.plot(history.history['val_loss'], label='val_loss');\n",
    "plt.title('Loss Vs. Epochs')\n",
    "plt.xlabel('Epochs')\n",
    "plt.ylabel('Loss')\n",
    "plt.legend(['Training Loss', 'Val Loss']);"
   ]
  },
  {
   "cell_type": "code",
   "execution_count": null,
   "metadata": {
    "colab": {
     "base_uri": "https://localhost:8080/",
     "height": 872
    },
    "id": "W12ZyvrVNjYT",
    "outputId": "7d5c6eeb-1987-4f45-9a3a-a35efd79d02e"
   },
   "outputs": [],
   "source": [
    "plt.figure(figsize=(10, 10));\n",
    "plt.plot(history.history['accuracy'], label='train_acc');\n",
    "plt.plot(history.history['val_accuracy'], label='val_acc');\n",
    "plt.title('Accuracy Vs. Epochs')\n",
    "plt.xlabel('Epochs')\n",
    "plt.ylabel('Accuracy')\n",
    "plt.legend(['Training Accuracy', 'Val Accuracy']);"
   ]
  },
  {
   "cell_type": "code",
   "execution_count": null,
   "metadata": {
    "colab": {
     "base_uri": "https://localhost:8080/"
    },
    "id": "wENOytqdNjYT",
    "outputId": "f382d041-e288-4df7-d0f2-ff34bb81664a"
   },
   "outputs": [],
   "source": [
    "pred = model.predict(X_test)"
   ]
  },
  {
   "cell_type": "code",
   "execution_count": null,
   "metadata": {
    "id": "H41GHRhKNjYT"
   },
   "outputs": [],
   "source": [
    "predic = []\n",
    "for i in pred:\n",
    "    if i > 0.5:\n",
    "        predic.append(1)\n",
    "    else:\n",
    "        predic.append(0)"
   ]
  },
  {
   "cell_type": "code",
   "execution_count": null,
   "metadata": {
    "id": "V5uWiJYONjYU"
   },
   "outputs": [],
   "source": [
    "predic = np.array(predic)"
   ]
  },
  {
   "cell_type": "code",
   "execution_count": null,
   "metadata": {
    "colab": {
     "base_uri": "https://localhost:8080/",
     "height": 1000
    },
    "id": "TxiHX_olNjYU",
    "outputId": "0ad3e449-1717-4942-ad7d-b74c714d4195"
   },
   "outputs": [],
   "source": [
    "print(\"----------------------------------------------------Accuracy------------------------------------------------------\")\n",
    "print(accuracy_score(y_test, predic))\n",
    "print()\n",
    "\n",
    "print(\"---------------------------------------------------Classification Report---------------------------------------------\")\n",
    "print(classification_report(y_test, predic))\n",
    "print()\n",
    "\n",
    "print(\"-------------------------------------------------Confustion Metrics----------------------------------------------------\")\n",
    "plt.figure(figsize=(10, 10));\n",
    "sns.heatmap(confusion_matrix(y_test, predic), annot=True);"
   ]
  },
  {
   "cell_type": "code",
   "execution_count": null,
   "metadata": {
    "id": "m-AaWB0KNjYU"
   },
   "outputs": [],
   "source": [
    "x = pd.DataFrame({'Actual': y_test, 'Predicted': predic}, columns=['Actual', 'Predicted'])"
   ]
  },
  {
   "cell_type": "code",
   "execution_count": null,
   "metadata": {
    "colab": {
     "base_uri": "https://localhost:8080/",
     "height": 1000
    },
    "id": "1yrBMwMCNjYU",
    "outputId": "ef1034a5-3f44-41a8-9860-93cfec5a16b3"
   },
   "outputs": [],
   "source": [
    "x.head(50)"
   ]
  },
  {
   "cell_type": "code",
   "execution_count": null,
   "metadata": {
    "colab": {
     "base_uri": "https://localhost:8080/"
    },
    "id": "MJWf_2WdNjYU",
    "outputId": "cdd6ed9e-0600-4a25-e877-c8a60696b5f4"
   },
   "outputs": [],
   "source": [
    "len(df.columns)"
   ]
  },
  {
   "cell_type": "code",
   "execution_count": null,
   "metadata": {
    "id": "FSz_W6nCNjYU"
   },
   "outputs": [],
   "source": []
  }
 ],
 "metadata": {
  "colab": {
   "provenance": []
  },
  "kernelspec": {
   "display_name": "Python 3 (ipykernel)",
   "language": "python",
   "name": "python3"
  },
  "language_info": {
   "codemirror_mode": {
    "name": "ipython",
    "version": 3
   },
   "file_extension": ".py",
   "mimetype": "text/x-python",
   "name": "python",
   "nbconvert_exporter": "python",
   "pygments_lexer": "ipython3",
   "version": "3.9.13"
  }
 },
 "nbformat": 4,
 "nbformat_minor": 1
}
