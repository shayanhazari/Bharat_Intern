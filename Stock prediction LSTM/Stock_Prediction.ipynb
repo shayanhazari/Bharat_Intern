{
  "cells": [
    {
      "cell_type": "markdown",
      "id": "86de4fde",
      "metadata": {
        "id": "86de4fde"
      },
      "source": [
        "## Stock Prediction using LSTM"
      ]
    },
    {
      "cell_type": "code",
      "source": [
        "from google.colab import drive\n",
        "drive.mount('/content/drive')"
      ],
      "metadata": {
        "colab": {
          "base_uri": "https://localhost:8080/"
        },
        "id": "H00LOoxT2GPj",
        "outputId": "5b91fd4f-576e-4203-d014-51573d2ddfca"
      },
      "id": "H00LOoxT2GPj",
      "execution_count": 57,
      "outputs": [
        {
          "output_type": "stream",
          "name": "stdout",
          "text": [
            "Drive already mounted at /content/drive; to attempt to forcibly remount, call drive.mount(\"/content/drive\", force_remount=True).\n"
          ]
        }
      ]
    },
    {
      "cell_type": "code",
      "execution_count": 58,
      "id": "a703d12e",
      "metadata": {
        "id": "a703d12e"
      },
      "outputs": [],
      "source": [
        "#Import Libraries"
      ]
    },
    {
      "cell_type": "code",
      "execution_count": 59,
      "id": "c1787ae1",
      "metadata": {
        "id": "c1787ae1"
      },
      "outputs": [],
      "source": [
        "import os\n",
        "import numpy as np\n",
        "import tensorflow as tf\n",
        "import pandas as pd\n",
        "import matplotlib.pyplot as plt\n",
        "%matplotlib inline"
      ]
    },
    {
      "cell_type": "code",
      "source": [
        "path1 = \"/train_data.csv\"\n",
        "path2 = \"/test_data.csv\""
      ],
      "metadata": {
        "id": "ZQVyHRmM2u3x"
      },
      "id": "ZQVyHRmM2u3x",
      "execution_count": 60,
      "outputs": []
    },
    {
      "cell_type": "code",
      "execution_count": 61,
      "id": "8adc6c18",
      "metadata": {
        "id": "8adc6c18"
      },
      "outputs": [],
      "source": [
        "#Load the Training Dataset"
      ]
    },
    {
      "cell_type": "code",
      "execution_count": 62,
      "id": "b23a07b4",
      "metadata": {
        "colab": {
          "base_uri": "https://localhost:8080/",
          "height": 206
        },
        "id": "b23a07b4",
        "outputId": "9e7d27d4-639d-40b0-85ae-9bbee209d4c2"
      },
      "outputs": [
        {
          "output_type": "execute_result",
          "data": {
            "text/plain": [
              "       Date    Open    High     Low   Close      Volume\n",
              "0  1/3/2012  325.25  332.83  324.97  663.59   7,380,500\n",
              "1  1/4/2012  331.27  333.87  329.08  666.45   5,749,400\n",
              "2  1/5/2012  329.83  330.75  326.89  657.21   6,590,300\n",
              "3  1/6/2012  328.34  328.77  323.68  648.24   5,405,900\n",
              "4  1/9/2012  322.04  322.29  309.46  620.76  11,688,800"
            ],
            "text/html": [
              "\n",
              "\n",
              "  <div id=\"df-cd5982b7-3bca-466b-868a-a5be39d2c665\">\n",
              "    <div class=\"colab-df-container\">\n",
              "      <div>\n",
              "<style scoped>\n",
              "    .dataframe tbody tr th:only-of-type {\n",
              "        vertical-align: middle;\n",
              "    }\n",
              "\n",
              "    .dataframe tbody tr th {\n",
              "        vertical-align: top;\n",
              "    }\n",
              "\n",
              "    .dataframe thead th {\n",
              "        text-align: right;\n",
              "    }\n",
              "</style>\n",
              "<table border=\"1\" class=\"dataframe\">\n",
              "  <thead>\n",
              "    <tr style=\"text-align: right;\">\n",
              "      <th></th>\n",
              "      <th>Date</th>\n",
              "      <th>Open</th>\n",
              "      <th>High</th>\n",
              "      <th>Low</th>\n",
              "      <th>Close</th>\n",
              "      <th>Volume</th>\n",
              "    </tr>\n",
              "  </thead>\n",
              "  <tbody>\n",
              "    <tr>\n",
              "      <th>0</th>\n",
              "      <td>1/3/2012</td>\n",
              "      <td>325.25</td>\n",
              "      <td>332.83</td>\n",
              "      <td>324.97</td>\n",
              "      <td>663.59</td>\n",
              "      <td>7,380,500</td>\n",
              "    </tr>\n",
              "    <tr>\n",
              "      <th>1</th>\n",
              "      <td>1/4/2012</td>\n",
              "      <td>331.27</td>\n",
              "      <td>333.87</td>\n",
              "      <td>329.08</td>\n",
              "      <td>666.45</td>\n",
              "      <td>5,749,400</td>\n",
              "    </tr>\n",
              "    <tr>\n",
              "      <th>2</th>\n",
              "      <td>1/5/2012</td>\n",
              "      <td>329.83</td>\n",
              "      <td>330.75</td>\n",
              "      <td>326.89</td>\n",
              "      <td>657.21</td>\n",
              "      <td>6,590,300</td>\n",
              "    </tr>\n",
              "    <tr>\n",
              "      <th>3</th>\n",
              "      <td>1/6/2012</td>\n",
              "      <td>328.34</td>\n",
              "      <td>328.77</td>\n",
              "      <td>323.68</td>\n",
              "      <td>648.24</td>\n",
              "      <td>5,405,900</td>\n",
              "    </tr>\n",
              "    <tr>\n",
              "      <th>4</th>\n",
              "      <td>1/9/2012</td>\n",
              "      <td>322.04</td>\n",
              "      <td>322.29</td>\n",
              "      <td>309.46</td>\n",
              "      <td>620.76</td>\n",
              "      <td>11,688,800</td>\n",
              "    </tr>\n",
              "  </tbody>\n",
              "</table>\n",
              "</div>\n",
              "      <button class=\"colab-df-convert\" onclick=\"convertToInteractive('df-cd5982b7-3bca-466b-868a-a5be39d2c665')\"\n",
              "              title=\"Convert this dataframe to an interactive table.\"\n",
              "              style=\"display:none;\">\n",
              "\n",
              "  <svg xmlns=\"http://www.w3.org/2000/svg\" height=\"24px\"viewBox=\"0 0 24 24\"\n",
              "       width=\"24px\">\n",
              "    <path d=\"M0 0h24v24H0V0z\" fill=\"none\"/>\n",
              "    <path d=\"M18.56 5.44l.94 2.06.94-2.06 2.06-.94-2.06-.94-.94-2.06-.94 2.06-2.06.94zm-11 1L8.5 8.5l.94-2.06 2.06-.94-2.06-.94L8.5 2.5l-.94 2.06-2.06.94zm10 10l.94 2.06.94-2.06 2.06-.94-2.06-.94-.94-2.06-.94 2.06-2.06.94z\"/><path d=\"M17.41 7.96l-1.37-1.37c-.4-.4-.92-.59-1.43-.59-.52 0-1.04.2-1.43.59L10.3 9.45l-7.72 7.72c-.78.78-.78 2.05 0 2.83L4 21.41c.39.39.9.59 1.41.59.51 0 1.02-.2 1.41-.59l7.78-7.78 2.81-2.81c.8-.78.8-2.07 0-2.86zM5.41 20L4 18.59l7.72-7.72 1.47 1.35L5.41 20z\"/>\n",
              "  </svg>\n",
              "      </button>\n",
              "\n",
              "\n",
              "\n",
              "    <div id=\"df-a2dcfde3-8652-4845-b0e5-71149e895b35\">\n",
              "      <button class=\"colab-df-quickchart\" onclick=\"quickchart('df-a2dcfde3-8652-4845-b0e5-71149e895b35')\"\n",
              "              title=\"Suggest charts.\"\n",
              "              style=\"display:none;\">\n",
              "\n",
              "<svg xmlns=\"http://www.w3.org/2000/svg\" height=\"24px\"viewBox=\"0 0 24 24\"\n",
              "     width=\"24px\">\n",
              "    <g>\n",
              "        <path d=\"M19 3H5c-1.1 0-2 .9-2 2v14c0 1.1.9 2 2 2h14c1.1 0 2-.9 2-2V5c0-1.1-.9-2-2-2zM9 17H7v-7h2v7zm4 0h-2V7h2v10zm4 0h-2v-4h2v4z\"/>\n",
              "    </g>\n",
              "</svg>\n",
              "      </button>\n",
              "    </div>\n",
              "\n",
              "<style>\n",
              "  .colab-df-quickchart {\n",
              "    background-color: #E8F0FE;\n",
              "    border: none;\n",
              "    border-radius: 50%;\n",
              "    cursor: pointer;\n",
              "    display: none;\n",
              "    fill: #1967D2;\n",
              "    height: 32px;\n",
              "    padding: 0 0 0 0;\n",
              "    width: 32px;\n",
              "  }\n",
              "\n",
              "  .colab-df-quickchart:hover {\n",
              "    background-color: #E2EBFA;\n",
              "    box-shadow: 0px 1px 2px rgba(60, 64, 67, 0.3), 0px 1px 3px 1px rgba(60, 64, 67, 0.15);\n",
              "    fill: #174EA6;\n",
              "  }\n",
              "\n",
              "  [theme=dark] .colab-df-quickchart {\n",
              "    background-color: #3B4455;\n",
              "    fill: #D2E3FC;\n",
              "  }\n",
              "\n",
              "  [theme=dark] .colab-df-quickchart:hover {\n",
              "    background-color: #434B5C;\n",
              "    box-shadow: 0px 1px 3px 1px rgba(0, 0, 0, 0.15);\n",
              "    filter: drop-shadow(0px 1px 2px rgba(0, 0, 0, 0.3));\n",
              "    fill: #FFFFFF;\n",
              "  }\n",
              "</style>\n",
              "\n",
              "    <script>\n",
              "      async function quickchart(key) {\n",
              "        const containerElement = document.querySelector('#' + key);\n",
              "        const charts = await google.colab.kernel.invokeFunction(\n",
              "            'suggestCharts', [key], {});\n",
              "      }\n",
              "    </script>\n",
              "\n",
              "      <script>\n",
              "\n",
              "function displayQuickchartButton(domScope) {\n",
              "  let quickchartButtonEl =\n",
              "    domScope.querySelector('#df-a2dcfde3-8652-4845-b0e5-71149e895b35 button.colab-df-quickchart');\n",
              "  quickchartButtonEl.style.display =\n",
              "    google.colab.kernel.accessAllowed ? 'block' : 'none';\n",
              "}\n",
              "\n",
              "        displayQuickchartButton(document);\n",
              "      </script>\n",
              "      <style>\n",
              "    .colab-df-container {\n",
              "      display:flex;\n",
              "      flex-wrap:wrap;\n",
              "      gap: 12px;\n",
              "    }\n",
              "\n",
              "    .colab-df-convert {\n",
              "      background-color: #E8F0FE;\n",
              "      border: none;\n",
              "      border-radius: 50%;\n",
              "      cursor: pointer;\n",
              "      display: none;\n",
              "      fill: #1967D2;\n",
              "      height: 32px;\n",
              "      padding: 0 0 0 0;\n",
              "      width: 32px;\n",
              "    }\n",
              "\n",
              "    .colab-df-convert:hover {\n",
              "      background-color: #E2EBFA;\n",
              "      box-shadow: 0px 1px 2px rgba(60, 64, 67, 0.3), 0px 1px 3px 1px rgba(60, 64, 67, 0.15);\n",
              "      fill: #174EA6;\n",
              "    }\n",
              "\n",
              "    [theme=dark] .colab-df-convert {\n",
              "      background-color: #3B4455;\n",
              "      fill: #D2E3FC;\n",
              "    }\n",
              "\n",
              "    [theme=dark] .colab-df-convert:hover {\n",
              "      background-color: #434B5C;\n",
              "      box-shadow: 0px 1px 3px 1px rgba(0, 0, 0, 0.15);\n",
              "      filter: drop-shadow(0px 1px 2px rgba(0, 0, 0, 0.3));\n",
              "      fill: #FFFFFF;\n",
              "    }\n",
              "  </style>\n",
              "\n",
              "      <script>\n",
              "        const buttonEl =\n",
              "          document.querySelector('#df-cd5982b7-3bca-466b-868a-a5be39d2c665 button.colab-df-convert');\n",
              "        buttonEl.style.display =\n",
              "          google.colab.kernel.accessAllowed ? 'block' : 'none';\n",
              "\n",
              "        async function convertToInteractive(key) {\n",
              "          const element = document.querySelector('#df-cd5982b7-3bca-466b-868a-a5be39d2c665');\n",
              "          const dataTable =\n",
              "            await google.colab.kernel.invokeFunction('convertToInteractive',\n",
              "                                                     [key], {});\n",
              "          if (!dataTable) return;\n",
              "\n",
              "          const docLinkHtml = 'Like what you see? Visit the ' +\n",
              "            '<a target=\"_blank\" href=https://colab.research.google.com/notebooks/data_table.ipynb>data table notebook</a>'\n",
              "            + ' to learn more about interactive tables.';\n",
              "          element.innerHTML = '';\n",
              "          dataTable['output_type'] = 'display_data';\n",
              "          await google.colab.output.renderOutput(dataTable, element);\n",
              "          const docLink = document.createElement('div');\n",
              "          docLink.innerHTML = docLinkHtml;\n",
              "          element.appendChild(docLink);\n",
              "        }\n",
              "      </script>\n",
              "    </div>\n",
              "  </div>\n"
            ]
          },
          "metadata": {},
          "execution_count": 62
        }
      ],
      "source": [
        "dataset_train = pd.read_csv(path1)\n",
        "dataset_train.head()"
      ]
    },
    {
      "cell_type": "code",
      "execution_count": 63,
      "id": "1bd1b122",
      "metadata": {
        "id": "1bd1b122"
      },
      "outputs": [],
      "source": [
        "#The Open Stock Price Column used to Train Your Model"
      ]
    },
    {
      "cell_type": "code",
      "execution_count": 64,
      "id": "416d2287",
      "metadata": {
        "id": "416d2287"
      },
      "outputs": [],
      "source": [
        "training_set = dataset_train.iloc[:,1:2].values"
      ]
    },
    {
      "cell_type": "code",
      "execution_count": 65,
      "id": "f0448a52",
      "metadata": {
        "colab": {
          "base_uri": "https://localhost:8080/"
        },
        "id": "f0448a52",
        "outputId": "bc277007-964f-460f-a0a8-dc6f0caa3902"
      },
      "outputs": [
        {
          "output_type": "stream",
          "name": "stdout",
          "text": [
            "[[325.25]\n",
            " [331.27]\n",
            " [329.83]\n",
            " ...\n",
            " [793.7 ]\n",
            " [783.33]\n",
            " [782.75]]\n",
            "(1258, 1)\n"
          ]
        }
      ],
      "source": [
        "print(training_set)\n",
        "print(training_set.shape)"
      ]
    },
    {
      "cell_type": "code",
      "execution_count": 66,
      "id": "cc973e86",
      "metadata": {
        "id": "cc973e86"
      },
      "outputs": [],
      "source": [
        "#Normalizing the Dataset"
      ]
    },
    {
      "cell_type": "code",
      "execution_count": 67,
      "id": "99e6cbfe",
      "metadata": {
        "colab": {
          "base_uri": "https://localhost:8080/"
        },
        "id": "99e6cbfe",
        "outputId": "3241c0e8-1cbc-4ec5-a656-a10a6e94233a"
      },
      "outputs": [
        {
          "output_type": "execute_result",
          "data": {
            "text/plain": [
              "array([[0.08581368],\n",
              "       [0.09701243],\n",
              "       [0.09433366],\n",
              "       ...,\n",
              "       [0.95725128],\n",
              "       [0.93796041],\n",
              "       [0.93688146]])"
            ]
          },
          "metadata": {},
          "execution_count": 67
        }
      ],
      "source": [
        "from sklearn.preprocessing import MinMaxScaler\n",
        "scaler = MinMaxScaler(feature_range=(0,1))\n",
        "scaled_training_set = scaler.fit_transform(training_set)\n",
        "scaled_training_set"
      ]
    },
    {
      "cell_type": "code",
      "execution_count": 68,
      "id": "c671af93",
      "metadata": {
        "id": "c671af93"
      },
      "outputs": [],
      "source": [
        "#split dataset into X_train and y_train"
      ]
    },
    {
      "cell_type": "code",
      "execution_count": 69,
      "id": "bc0ad7f6",
      "metadata": {
        "id": "bc0ad7f6"
      },
      "outputs": [],
      "source": [
        "X_train = []\n",
        "y_train = []\n",
        "for i in range(60,1258):\n",
        "    X_train.append(scaled_training_set[i-60:i, 0])\n",
        "    y_train.append(scaled_training_set[i, 0])\n",
        "X_train = np.array(X_train)\n",
        "y_train = np.array(y_train)"
      ]
    },
    {
      "cell_type": "code",
      "execution_count": 70,
      "id": "a46fa1a8",
      "metadata": {
        "colab": {
          "base_uri": "https://localhost:8080/"
        },
        "id": "a46fa1a8",
        "outputId": "1f081c5c-30c9-4b1c-fdb6-2853ab12b483"
      },
      "outputs": [
        {
          "output_type": "stream",
          "name": "stdout",
          "text": [
            "(1198, 60)\n",
            "(1198,)\n"
          ]
        }
      ],
      "source": [
        "print(X_train.shape)\n",
        "print(y_train.shape)"
      ]
    },
    {
      "cell_type": "code",
      "execution_count": 71,
      "id": "def27184",
      "metadata": {
        "id": "def27184"
      },
      "outputs": [],
      "source": [
        "#Reshaping the Data"
      ]
    },
    {
      "cell_type": "code",
      "execution_count": 72,
      "id": "e883dae3",
      "metadata": {
        "colab": {
          "base_uri": "https://localhost:8080/"
        },
        "id": "e883dae3",
        "outputId": "23ea08f8-9120-433d-e420-a02e4d207856"
      },
      "outputs": [
        {
          "output_type": "execute_result",
          "data": {
            "text/plain": [
              "(1198, 60, 1)"
            ]
          },
          "metadata": {},
          "execution_count": 72
        }
      ],
      "source": [
        "X_train = np.reshape(X_train, (X_train.shape[0],X_train.shape[1],1))\n",
        "X_train.shape"
      ]
    },
    {
      "cell_type": "code",
      "execution_count": 73,
      "id": "16767858",
      "metadata": {
        "id": "16767858"
      },
      "outputs": [],
      "source": [
        "from keras.models import Sequential\n",
        "from keras.layers import LSTM\n",
        "from keras.layers import Dense\n",
        "from keras.layers import Dropout"
      ]
    },
    {
      "cell_type": "code",
      "execution_count": 74,
      "id": "bc7cd232",
      "metadata": {
        "id": "bc7cd232"
      },
      "outputs": [],
      "source": [
        "regressor = Sequential()\n",
        "\n",
        "regressor.add(LSTM(units = 50, return_sequences= True, input_shape = (X_train.shape[1], 1)))\n",
        "regressor.add(Dropout (0.2))\n",
        "regressor.add(LSTM(units = 50, return_sequences= True))\n",
        "regressor.add(Dropout (0.2))\n",
        "regressor.add(LSTM(units = 50, return_sequences= True))\n",
        "regressor.add(Dropout (0.2))\n",
        "regressor.add(LSTM(units = 50))\n",
        "regressor.add(Dropout (0.2))\n",
        "regressor.add(Dense (units=1))\n"
      ]
    },
    {
      "cell_type": "code",
      "source": [
        "#Fitting the Model"
      ],
      "metadata": {
        "id": "ha2Dd_lh4Yc7"
      },
      "id": "ha2Dd_lh4Yc7",
      "execution_count": 75,
      "outputs": []
    },
    {
      "cell_type": "code",
      "source": [
        "regressor.compile(optimizer = 'adam', loss = 'mean_squared_error')\n",
        "regressor.fit(X_train, y_train, epochs=100, batch_size=32)"
      ],
      "metadata": {
        "colab": {
          "base_uri": "https://localhost:8080/"
        },
        "id": "zc_hhjfB4ftU",
        "outputId": "8a6344d8-ce6f-41b2-e3e9-7d5306027619"
      },
      "id": "zc_hhjfB4ftU",
      "execution_count": 76,
      "outputs": [
        {
          "output_type": "stream",
          "name": "stdout",
          "text": [
            "Epoch 1/100\n",
            "38/38 [==============================] - 16s 194ms/step - loss: 0.0374\n",
            "Epoch 2/100\n",
            "38/38 [==============================] - 5s 129ms/step - loss: 0.0064\n",
            "Epoch 3/100\n",
            "38/38 [==============================] - 7s 189ms/step - loss: 0.0063\n",
            "Epoch 4/100\n",
            "38/38 [==============================] - 9s 243ms/step - loss: 0.0059\n",
            "Epoch 5/100\n",
            "38/38 [==============================] - 5s 128ms/step - loss: 0.0051\n",
            "Epoch 6/100\n",
            "38/38 [==============================] - 7s 179ms/step - loss: 0.0052\n",
            "Epoch 7/100\n",
            "38/38 [==============================] - 5s 128ms/step - loss: 0.0047\n",
            "Epoch 8/100\n",
            "38/38 [==============================] - 5s 129ms/step - loss: 0.0051\n",
            "Epoch 9/100\n",
            "38/38 [==============================] - 7s 182ms/step - loss: 0.0047\n",
            "Epoch 10/100\n",
            "38/38 [==============================] - 7s 184ms/step - loss: 0.0059\n",
            "Epoch 11/100\n",
            "38/38 [==============================] - 7s 182ms/step - loss: 0.0042\n",
            "Epoch 12/100\n",
            "38/38 [==============================] - 5s 128ms/step - loss: 0.0038\n",
            "Epoch 13/100\n",
            "38/38 [==============================] - 6s 148ms/step - loss: 0.0039\n",
            "Epoch 14/100\n",
            "38/38 [==============================] - 6s 160ms/step - loss: 0.0044\n",
            "Epoch 15/100\n",
            "38/38 [==============================] - 5s 129ms/step - loss: 0.0047\n",
            "Epoch 16/100\n",
            "38/38 [==============================] - 7s 184ms/step - loss: 0.0040\n",
            "Epoch 17/100\n",
            "38/38 [==============================] - 5s 129ms/step - loss: 0.0037\n",
            "Epoch 18/100\n",
            "38/38 [==============================] - 5s 130ms/step - loss: 0.0040\n",
            "Epoch 19/100\n",
            "38/38 [==============================] - 7s 180ms/step - loss: 0.0032\n",
            "Epoch 20/100\n",
            "38/38 [==============================] - 5s 128ms/step - loss: 0.0034\n",
            "Epoch 21/100\n",
            "38/38 [==============================] - 7s 172ms/step - loss: 0.0032\n",
            "Epoch 22/100\n",
            "38/38 [==============================] - 5s 137ms/step - loss: 0.0033\n",
            "Epoch 23/100\n",
            "38/38 [==============================] - 5s 130ms/step - loss: 0.0039\n",
            "Epoch 24/100\n",
            "38/38 [==============================] - 7s 183ms/step - loss: 0.0030\n",
            "Epoch 25/100\n",
            "38/38 [==============================] - 5s 129ms/step - loss: 0.0030\n",
            "Epoch 26/100\n",
            "38/38 [==============================] - 6s 159ms/step - loss: 0.0031\n",
            "Epoch 27/100\n",
            "38/38 [==============================] - 6s 151ms/step - loss: 0.0033\n",
            "Epoch 28/100\n",
            "38/38 [==============================] - 5s 129ms/step - loss: 0.0032\n",
            "Epoch 29/100\n",
            "38/38 [==============================] - 7s 181ms/step - loss: 0.0030\n",
            "Epoch 30/100\n",
            "38/38 [==============================] - 5s 128ms/step - loss: 0.0032\n",
            "Epoch 31/100\n",
            "38/38 [==============================] - 5s 139ms/step - loss: 0.0036\n",
            "Epoch 32/100\n",
            "38/38 [==============================] - 6s 169ms/step - loss: 0.0034\n",
            "Epoch 33/100\n",
            "38/38 [==============================] - 5s 128ms/step - loss: 0.0030\n",
            "Epoch 34/100\n",
            "38/38 [==============================] - 7s 180ms/step - loss: 0.0028\n",
            "Epoch 35/100\n",
            "38/38 [==============================] - 5s 130ms/step - loss: 0.0031\n",
            "Epoch 36/100\n",
            "38/38 [==============================] - 5s 128ms/step - loss: 0.0028\n",
            "Epoch 37/100\n",
            "38/38 [==============================] - 7s 182ms/step - loss: 0.0026\n",
            "Epoch 38/100\n",
            "38/38 [==============================] - 5s 129ms/step - loss: 0.0028\n",
            "Epoch 39/100\n",
            "38/38 [==============================] - 6s 167ms/step - loss: 0.0026\n",
            "Epoch 40/100\n",
            "38/38 [==============================] - 5s 142ms/step - loss: 0.0024\n",
            "Epoch 41/100\n",
            "38/38 [==============================] - 5s 129ms/step - loss: 0.0026\n",
            "Epoch 42/100\n",
            "38/38 [==============================] - 7s 182ms/step - loss: 0.0024\n",
            "Epoch 43/100\n",
            "38/38 [==============================] - 5s 133ms/step - loss: 0.0025\n",
            "Epoch 44/100\n",
            "38/38 [==============================] - 6s 155ms/step - loss: 0.0028\n",
            "Epoch 45/100\n",
            "38/38 [==============================] - 6s 154ms/step - loss: 0.0027\n",
            "Epoch 46/100\n",
            "38/38 [==============================] - 5s 130ms/step - loss: 0.0024\n",
            "Epoch 47/100\n",
            "38/38 [==============================] - 8s 214ms/step - loss: 0.0024\n",
            "Epoch 48/100\n",
            "38/38 [==============================] - 6s 156ms/step - loss: 0.0023\n",
            "Epoch 49/100\n",
            "38/38 [==============================] - 5s 135ms/step - loss: 0.0023\n",
            "Epoch 50/100\n",
            "38/38 [==============================] - 7s 175ms/step - loss: 0.0023\n",
            "Epoch 51/100\n",
            "38/38 [==============================] - 5s 129ms/step - loss: 0.0024\n",
            "Epoch 52/100\n",
            "38/38 [==============================] - 7s 173ms/step - loss: 0.0026\n",
            "Epoch 53/100\n",
            "38/38 [==============================] - 5s 136ms/step - loss: 0.0024\n",
            "Epoch 54/100\n",
            "38/38 [==============================] - 5s 128ms/step - loss: 0.0022\n",
            "Epoch 55/100\n",
            "38/38 [==============================] - 7s 182ms/step - loss: 0.0022\n",
            "Epoch 56/100\n",
            "38/38 [==============================] - 5s 128ms/step - loss: 0.0022\n",
            "Epoch 57/100\n",
            "38/38 [==============================] - 6s 156ms/step - loss: 0.0022\n",
            "Epoch 58/100\n",
            "38/38 [==============================] - 6s 151ms/step - loss: 0.0021\n",
            "Epoch 59/100\n",
            "38/38 [==============================] - 5s 128ms/step - loss: 0.0022\n",
            "Epoch 60/100\n",
            "38/38 [==============================] - 7s 181ms/step - loss: 0.0022\n",
            "Epoch 61/100\n",
            "38/38 [==============================] - 5s 129ms/step - loss: 0.0022\n",
            "Epoch 62/100\n",
            "38/38 [==============================] - 5s 138ms/step - loss: 0.0018\n",
            "Epoch 63/100\n",
            "38/38 [==============================] - 7s 170ms/step - loss: 0.0019\n",
            "Epoch 64/100\n",
            "38/38 [==============================] - 5s 128ms/step - loss: 0.0020\n",
            "Epoch 65/100\n",
            "38/38 [==============================] - 7s 180ms/step - loss: 0.0019\n",
            "Epoch 66/100\n",
            "38/38 [==============================] - 5s 130ms/step - loss: 0.0018\n",
            "Epoch 67/100\n",
            "38/38 [==============================] - 5s 133ms/step - loss: 0.0022\n",
            "Epoch 68/100\n",
            "38/38 [==============================] - 7s 182ms/step - loss: 0.0019\n",
            "Epoch 69/100\n",
            "38/38 [==============================] - 5s 133ms/step - loss: 0.0020\n",
            "Epoch 70/100\n",
            "38/38 [==============================] - 7s 175ms/step - loss: 0.0018\n",
            "Epoch 71/100\n",
            "38/38 [==============================] - 5s 134ms/step - loss: 0.0020\n",
            "Epoch 72/100\n",
            "38/38 [==============================] - 5s 129ms/step - loss: 0.0018\n",
            "Epoch 73/100\n",
            "38/38 [==============================] - 7s 183ms/step - loss: 0.0018\n",
            "Epoch 74/100\n",
            "38/38 [==============================] - 5s 130ms/step - loss: 0.0019\n",
            "Epoch 75/100\n",
            "38/38 [==============================] - 6s 161ms/step - loss: 0.0016\n",
            "Epoch 76/100\n",
            "38/38 [==============================] - 6s 148ms/step - loss: 0.0018\n",
            "Epoch 77/100\n",
            "38/38 [==============================] - 5s 131ms/step - loss: 0.0018\n",
            "Epoch 78/100\n",
            "38/38 [==============================] - 7s 184ms/step - loss: 0.0017\n",
            "Epoch 79/100\n",
            "38/38 [==============================] - 5s 131ms/step - loss: 0.0017\n",
            "Epoch 80/100\n",
            "38/38 [==============================] - 6s 153ms/step - loss: 0.0017\n",
            "Epoch 81/100\n",
            "38/38 [==============================] - 6s 157ms/step - loss: 0.0017\n",
            "Epoch 82/100\n",
            "38/38 [==============================] - 5s 131ms/step - loss: 0.0016\n",
            "Epoch 83/100\n",
            "38/38 [==============================] - 7s 183ms/step - loss: 0.0017\n",
            "Epoch 84/100\n",
            "38/38 [==============================] - 5s 130ms/step - loss: 0.0016\n",
            "Epoch 85/100\n",
            "38/38 [==============================] - 5s 140ms/step - loss: 0.0018\n",
            "Epoch 86/100\n",
            "38/38 [==============================] - 7s 170ms/step - loss: 0.0015\n",
            "Epoch 87/100\n",
            "38/38 [==============================] - 5s 130ms/step - loss: 0.0014\n",
            "Epoch 88/100\n",
            "38/38 [==============================] - 7s 182ms/step - loss: 0.0016\n",
            "Epoch 89/100\n",
            "38/38 [==============================] - 5s 133ms/step - loss: 0.0014\n",
            "Epoch 90/100\n",
            "38/38 [==============================] - 5s 131ms/step - loss: 0.0015\n",
            "Epoch 91/100\n",
            "38/38 [==============================] - 9s 233ms/step - loss: 0.0014\n",
            "Epoch 92/100\n",
            "38/38 [==============================] - 5s 132ms/step - loss: 0.0015\n",
            "Epoch 93/100\n",
            "38/38 [==============================] - 6s 170ms/step - loss: 0.0014\n",
            "Epoch 94/100\n",
            "38/38 [==============================] - 5s 138ms/step - loss: 0.0015\n",
            "Epoch 95/100\n",
            "38/38 [==============================] - 5s 130ms/step - loss: 0.0013\n",
            "Epoch 96/100\n",
            "38/38 [==============================] - 7s 182ms/step - loss: 0.0015\n",
            "Epoch 97/100\n",
            "38/38 [==============================] - 5s 133ms/step - loss: 0.0014\n",
            "Epoch 98/100\n",
            "38/38 [==============================] - 6s 162ms/step - loss: 0.0014\n",
            "Epoch 99/100\n",
            "38/38 [==============================] - 6s 149ms/step - loss: 0.0015\n",
            "Epoch 100/100\n",
            "38/38 [==============================] - 5s 130ms/step - loss: 0.0015\n"
          ]
        },
        {
          "output_type": "execute_result",
          "data": {
            "text/plain": [
              "<keras.callbacks.History at 0x7b3ce646ba90>"
            ]
          },
          "metadata": {},
          "execution_count": 76
        }
      ]
    },
    {
      "cell_type": "code",
      "source": [
        "#Extracting the Actual Stock Prices"
      ],
      "metadata": {
        "id": "73omih3nB_-b"
      },
      "id": "73omih3nB_-b",
      "execution_count": 77,
      "outputs": []
    },
    {
      "cell_type": "code",
      "source": [
        "dataset_test = pd.read_csv(path2)\n",
        "actual_stock_price =  dataset_test.iloc[:,1:2].values"
      ],
      "metadata": {
        "id": "aFhtZswl41AE"
      },
      "id": "aFhtZswl41AE",
      "execution_count": 78,
      "outputs": []
    },
    {
      "cell_type": "code",
      "source": [
        "#Preparing the model"
      ],
      "metadata": {
        "id": "NcwfRg2CFT7g"
      },
      "id": "NcwfRg2CFT7g",
      "execution_count": 79,
      "outputs": []
    },
    {
      "cell_type": "code",
      "source": [
        "dataset_total = pd.concat((dataset_train [ 'Open'], dataset_test['Open']), axis = 0)\n",
        "inputs = dataset_total[len(dataset_total)- len(dataset_test)-60:].values\n",
        "inputs = inputs.reshape(-1,1)\n",
        "inputs = scaler.transform(inputs)"
      ],
      "metadata": {
        "id": "utsRT9x5Frb3"
      },
      "id": "utsRT9x5Frb3",
      "execution_count": 80,
      "outputs": []
    },
    {
      "cell_type": "code",
      "source": [
        "X_test = []\n",
        "for i in range(60,310):\n",
        "  X_test.append(inputs[i-60:i, 0])\n",
        "X_test = np.array(X_test)\n",
        "X_test = np.reshape(X_test, (X_test.shape[0], X_test.shape[1], 1))"
      ],
      "metadata": {
        "id": "_mApXalRGK6G"
      },
      "id": "_mApXalRGK6G",
      "execution_count": 104,
      "outputs": []
    },
    {
      "cell_type": "code",
      "source": [
        "#Prediction"
      ],
      "metadata": {
        "id": "9TQxSBbZGqOy"
      },
      "id": "9TQxSBbZGqOy",
      "execution_count": 94,
      "outputs": []
    },
    {
      "cell_type": "code",
      "source": [
        "predicted_stock_price = regressor.predict(X_test)\n",
        "predicted_stock_price = scaler.inverse_transform(predicted_stock_price)"
      ],
      "metadata": {
        "colab": {
          "base_uri": "https://localhost:8080/"
        },
        "id": "A2Ss2cm-G1kw",
        "outputId": "f0bd5f16-7dea-4d7a-ea74-ac0d2e2c0073"
      },
      "id": "A2Ss2cm-G1kw",
      "execution_count": 105,
      "outputs": [
        {
          "output_type": "stream",
          "name": "stdout",
          "text": [
            "8/8 [==============================] - 0s 37ms/step\n"
          ]
        }
      ]
    },
    {
      "cell_type": "code",
      "source": [
        "#Plotting the Actual and Predicted Prices"
      ],
      "metadata": {
        "id": "fqDhMnY3HQ-k"
      },
      "id": "fqDhMnY3HQ-k",
      "execution_count": 87,
      "outputs": []
    },
    {
      "cell_type": "code",
      "source": [
        "plt.plot(actual_stock_price, color = 'red', label = 'Actual Stock Price')\n",
        "plt.plot(predicted_stock_price, color = 'blue', label = 'Predicted Stock Price')\n",
        "plt.title('Stock Price Prediction')\n",
        "plt.xlabel('Time')\n",
        "plt.ylabel('Stock Price')\n",
        "plt.legend()"
      ],
      "metadata": {
        "colab": {
          "base_uri": "https://localhost:8080/",
          "height": 489
        },
        "id": "v0REViuTHXR3",
        "outputId": "16e6554f-5f12-4018-e26f-20aaf617ff88"
      },
      "id": "v0REViuTHXR3",
      "execution_count": 106,
      "outputs": [
        {
          "output_type": "execute_result",
          "data": {
            "text/plain": [
              "<matplotlib.legend.Legend at 0x7b3ce49b37f0>"
            ]
          },
          "metadata": {},
          "execution_count": 106
        },
        {
          "output_type": "display_data",
          "data": {
            "text/plain": [
              "<Figure size 640x480 with 1 Axes>"
            ],
            "image/png": "[encoded data removed]"
          },
          "metadata": {}
        }
      ]
    },
    {
      "cell_type": "code",
      "source": [],
      "metadata": {
        "id": "FE8VddCiH1Ue"
      },
      "id": "FE8VddCiH1Ue",
      "execution_count": 85,
      "outputs": []
    }
  ],
  "metadata": {
    "kernelspec": {
      "display_name": "Python 3 (ipykernel)",
      "language": "python",
      "name": "python3"
    },
    "language_info": {
      "codemirror_mode": {
        "name": "ipython",
        "version": 3
      },
      "file_extension": ".py",
      "mimetype": "text/x-python",
      "name": "python",
      "nbconvert_exporter": "python",
      "pygments_lexer": "ipython3",
      "version": "3.9.13"
    },
    "colab": {
      "provenance": []
    }
  },
  "nbformat": 4,
  "nbformat_minor": 5
}